{
 "cells": [
  {
   "cell_type": "markdown",
   "metadata": {},
   "source": [
    "# Corruption analysis\n",
    "Today is possible for us to readily and constantly check information online, over the years more and more people got access to mobile devices and this medium became the main for information exchange and gathering. We can imagine how this can influency society, but we're not going to study how people are interacting or being influenced, we're going to analyze the relations between the Internet users...\n",
    "\n",
    "## About the data\n",
    "\n",
    "We're going to use three datasets:\n",
    "- Corruption Perception Index (CPI)\n",
    "- Number Of Internet Users (# people with internet access)\n",
    "- Number Of Journalists Killed\n",
    "\n",
    "### Corruption Perception Index (CPI)\n",
    "[Transparency International, CPI 2018](https://www.transparency.org/cpi2018)\n",
    "\n",
    "More about the index (YouTube Video):\n",
    "\n",
    "[![CPI 2018](https://i.ytimg.com/vi/OXApeTYRYNQ/hqdefault.jpg?sqp=-oaymwEZCPYBEIoBSFXyq4qpAwsIARUAAIhCGAFwAQ==&rs=AOn4CLCNIW09Vs8woiyo5Y824JeMQarslQ)](https://www.youtube.com/watch?v=OXApeTYRYNQ)"
   ]
  },
  {
   "cell_type": "markdown",
   "metadata": {},
   "source": [
    "**TODO**\n",
    "Descriptions\n",
    "- [ ] Intro description\n",
    "- [ ] Dataset data explanation\n",
    "  - [ ] Change CPI video thumbnail\n",
    "\n",
    "Wrangling\n",
    "- [x] Save new dataset\n",
    "- [ ] Clean reshape code\n",
    "- [ ] Create functions with reshaping options"
   ]
  },
  {
   "cell_type": "code",
   "execution_count": 1,
   "metadata": {},
   "outputs": [],
   "source": [
    "import pandas as pd\n",
    "import numpy as np\n",
    "import matplotlib.pyplot as plt\n",
    "import seaborn as sn\n",
    "import operator\n",
    "from functools import reduce\n",
    "\n",
    "\n",
    "%matplotlib inline\n",
    "\n",
    "df_internet = pd.read_csv('data/internet_users.csv')\n",
    "df_killings = pd.read_csv('data/num_of_journalists_killed.csv')\n",
    "df_cpi = pd.read_csv('data/corruption_perception_index_cpi.csv')"
   ]
  },
  {
   "cell_type": "code",
   "execution_count": 2,
   "metadata": {},
   "outputs": [],
   "source": [
    "dfs = [df_internet, df_killings, df_cpi]\n",
    "years = []"
   ]
  },
  {
   "cell_type": "code",
   "execution_count": 3,
   "metadata": {},
   "outputs": [
    {
     "name": "stdout",
     "output_type": "stream",
     "text": [
      "(193, 29)\n",
      "(100, 28)\n",
      "(177, 7)\n"
     ]
    }
   ],
   "source": [
    "for d in dfs:\n",
    "    print(d.shape)"
   ]
  },
  {
   "cell_type": "code",
   "execution_count": 4,
   "metadata": {},
   "outputs": [],
   "source": [
    "dfs[0].drop(dfs[0].columns.to_series()['1990':'2011'], axis=1, inplace=True)\n",
    "dfs[0].drop('2017', axis=1, inplace=True)"
   ]
  },
  {
   "cell_type": "code",
   "execution_count": 5,
   "metadata": {},
   "outputs": [],
   "source": [
    "dfs[1].drop(dfs[1].columns.to_series()['1992':'2011'], axis=1, inplace=True)\n",
    "dfs[1].drop(['2017', '2018'], axis=1, inplace=True)"
   ]
  },
  {
   "cell_type": "code",
   "execution_count": 6,
   "metadata": {},
   "outputs": [],
   "source": [
    "dfs[2].drop('2017', axis=1, inplace=True)"
   ]
  },
  {
   "cell_type": "code",
   "execution_count": 7,
   "metadata": {},
   "outputs": [],
   "source": [
    "temp = dfs.copy()"
   ]
  },
  {
   "cell_type": "code",
   "execution_count": 8,
   "metadata": {},
   "outputs": [
    {
     "data": {
      "text/html": [
       "<div>\n",
       "<style scoped>\n",
       "    .dataframe tbody tr th:only-of-type {\n",
       "        vertical-align: middle;\n",
       "    }\n",
       "\n",
       "    .dataframe tbody tr th {\n",
       "        vertical-align: top;\n",
       "    }\n",
       "\n",
       "    .dataframe thead th {\n",
       "        text-align: right;\n",
       "    }\n",
       "</style>\n",
       "<table border=\"1\" class=\"dataframe\">\n",
       "  <thead>\n",
       "    <tr style=\"text-align: right;\">\n",
       "      <th></th>\n",
       "      <th>country</th>\n",
       "      <th>2012</th>\n",
       "      <th>2013</th>\n",
       "      <th>2014</th>\n",
       "      <th>2015</th>\n",
       "      <th>2016</th>\n",
       "    </tr>\n",
       "  </thead>\n",
       "  <tbody>\n",
       "    <tr>\n",
       "      <th>0</th>\n",
       "      <td>Afghanistan</td>\n",
       "      <td>5.45</td>\n",
       "      <td>5.9</td>\n",
       "      <td>7.0</td>\n",
       "      <td>8.26</td>\n",
       "      <td>10.6</td>\n",
       "    </tr>\n",
       "    <tr>\n",
       "      <th>1</th>\n",
       "      <td>Albania</td>\n",
       "      <td>54.70</td>\n",
       "      <td>57.2</td>\n",
       "      <td>60.1</td>\n",
       "      <td>63.30</td>\n",
       "      <td>66.4</td>\n",
       "    </tr>\n",
       "    <tr>\n",
       "      <th>2</th>\n",
       "      <td>Algeria</td>\n",
       "      <td>18.20</td>\n",
       "      <td>22.5</td>\n",
       "      <td>29.5</td>\n",
       "      <td>38.20</td>\n",
       "      <td>42.9</td>\n",
       "    </tr>\n",
       "    <tr>\n",
       "      <th>3</th>\n",
       "      <td>Andorra</td>\n",
       "      <td>86.40</td>\n",
       "      <td>94.0</td>\n",
       "      <td>95.9</td>\n",
       "      <td>96.90</td>\n",
       "      <td>97.9</td>\n",
       "    </tr>\n",
       "    <tr>\n",
       "      <th>4</th>\n",
       "      <td>Angola</td>\n",
       "      <td>6.50</td>\n",
       "      <td>8.9</td>\n",
       "      <td>10.2</td>\n",
       "      <td>12.40</td>\n",
       "      <td>13.0</td>\n",
       "    </tr>\n",
       "  </tbody>\n",
       "</table>\n",
       "</div>"
      ],
      "text/plain": [
       "       country   2012  2013  2014   2015  2016\n",
       "0  Afghanistan   5.45   5.9   7.0   8.26  10.6\n",
       "1      Albania  54.70  57.2  60.1  63.30  66.4\n",
       "2      Algeria  18.20  22.5  29.5  38.20  42.9\n",
       "3      Andorra  86.40  94.0  95.9  96.90  97.9\n",
       "4       Angola   6.50   8.9  10.2  12.40  13.0"
      ]
     },
     "execution_count": 8,
     "metadata": {},
     "output_type": "execute_result"
    }
   ],
   "source": [
    "temp[0].head()"
   ]
  },
  {
   "cell_type": "code",
   "execution_count": 10,
   "metadata": {},
   "outputs": [],
   "source": [
    "for i in range(0,len(temp)):\n",
    "    temp[i]=temp[i].melt(id_vars='country', value_vars=temp[i].columns[1:7])\n",
    "    temp[i].rename(columns={'variable': 'year'}, inplace=True)"
   ]
  },
  {
   "cell_type": "code",
   "execution_count": 11,
   "metadata": {},
   "outputs": [],
   "source": [
    "temp[0].rename(columns={'value': 'internet_users'}, inplace=True)\n",
    "temp[1].rename(columns={'value': 'journalists_killed'}, inplace=True)\n",
    "temp[2].rename(columns={'value': 'cpi'}, inplace=True)"
   ]
  },
  {
   "cell_type": "code",
   "execution_count": 12,
   "metadata": {},
   "outputs": [],
   "source": [
    "t1 = temp[0].merge(temp[1], on=['country', 'year'], how='inner')\n",
    "t2 = t1.merge(temp[2], on=['country', 'year'], how='inner')"
   ]
  },
  {
   "cell_type": "code",
   "execution_count": 14,
   "metadata": {},
   "outputs": [],
   "source": [
    "ind = list(t2.columns[0:2])\n",
    "col = list(t2.columns[2:])\n",
    "\n",
    "t3 = t2.pivot_table(index=ind, values=col)\n",
    "\n",
    "t3.fillna(0, inplace=True)"
   ]
  },
  {
   "cell_type": "code",
   "execution_count": 19,
   "metadata": {},
   "outputs": [],
   "source": [
    "group_killed = pd.DataFrame(t3.groupby('country')['journalists_killed'].sum())\n",
    "none_killed = group_killed[group_killed['journalists_killed'] == 0].index\n",
    "\n",
    "t3.drop(list(none_killed), axis=0, inplace=True)"
   ]
  },
  {
   "cell_type": "code",
   "execution_count": 27,
   "metadata": {},
   "outputs": [],
   "source": [
    "# Save to CSV new dataset\n",
    "t3.to_csv('data/cleaned_df_cpi-killings-internet.csv')"
   ]
  }
 ],
 "metadata": {
  "kernelspec": {
   "display_name": "Python 3",
   "language": "python",
   "name": "python3"
  },
  "language_info": {
   "codemirror_mode": {
    "name": "ipython",
    "version": 3
   },
   "file_extension": ".py",
   "mimetype": "text/x-python",
   "name": "python",
   "nbconvert_exporter": "python",
   "pygments_lexer": "ipython3",
   "version": "3.7.3"
  }
 },
 "nbformat": 4,
 "nbformat_minor": 4
}
