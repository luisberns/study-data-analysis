{
 "cells": [
  {
   "cell_type": "code",
   "execution_count": 3,
   "metadata": {},
   "outputs": [
    {
     "name": "stdout",
     "output_type": "stream",
     "text": [
      "Automatic pdb calling has been turned ON\n",
      "hello\n"
     ]
    }
   ],
   "source": [
    "%pdb\n",
    "print('hello')\n",
    "\n"
   ]
  },
  {
   "cell_type": "code",
   "execution_count": 51,
   "metadata": {},
   "outputs": [
    {
     "name": "stdout",
     "output_type": "stream",
     "text": [
      "11\n"
     ]
    }
   ],
   "source": [
    "x=101\n",
    "\n",
    "def first_number(n):\n",
    "    if n >= 10 and n <= 1000000:\n",
    "        i=[int(i) for i in str(n)]\n",
    "        for a in i:\n",
    "            t = i.copy()\n",
    "            t.pop(t.index(a))\n",
    "        i.pop(i.index(min(i)))\n",
    "        s=''\n",
    "        for a in i:\n",
    "            s=s+str(a)\n",
    "        return int(s)\n",
    "    else:\n",
    "        return\n",
    "\n",
    "print(first_number(x))\n"
   ]
  },
  {
   "cell_type": "code",
   "execution_count": null,
   "metadata": {},
   "outputs": [],
   "source": []
  },
  {
   "cell_type": "code",
   "execution_count": null,
   "metadata": {},
   "outputs": [],
   "source": []
  }
 ],
 "metadata": {
  "kernelspec": {
   "display_name": "Python 3",
   "language": "python",
   "name": "python3"
  },
  "language_info": {
   "codemirror_mode": {
    "name": "ipython",
    "version": 3
   },
   "file_extension": ".py",
   "mimetype": "text/x-python",
   "name": "python",
   "nbconvert_exporter": "python",
   "pygments_lexer": "ipython3",
   "version": "3.7.3"
  }
 },
 "nbformat": 4,
 "nbformat_minor": 2
}
